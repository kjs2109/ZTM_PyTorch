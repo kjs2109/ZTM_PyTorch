{
 "cells": [
  {
   "cell_type": "code",
   "execution_count": 1,
   "metadata": {},
   "outputs": [],
   "source": [
    "import torch \n",
    "import torchvision \n"
   ]
  },
  {
   "cell_type": "code",
   "execution_count": 2,
   "metadata": {},
   "outputs": [],
   "source": [
    "device = \"cuda\" if torch.cuda.is_available() else \"cpu\" "
   ]
  },
  {
   "cell_type": "code",
   "execution_count": 3,
   "metadata": {},
   "outputs": [],
   "source": [
    "def set_seed(seed=42): \n",
    "    torch.manual_seed(seed) \n",
    "    torch.cuda.manual_seed(seed)"
   ]
  },
  {
   "cell_type": "code",
   "execution_count": 4,
   "metadata": {},
   "outputs": [
    {
     "data": {
      "text/plain": [
       "(WindowsPath('data/pizza_steak_sushi/train'),\n",
       " WindowsPath('data/pizza_steak_sushi/test'))"
      ]
     },
     "execution_count": 4,
     "metadata": {},
     "output_type": "execute_result"
    }
   ],
   "source": [
    "from pathlib import Path \n",
    "\n",
    "image_path = Path(\"data/pizza_steak_sushi/\")\n",
    "\n",
    "train_dir = image_path / \"train\" \n",
    "test_dir = image_path / \"test\" \n",
    "\n",
    "train_dir, test_dir"
   ]
  },
  {
   "cell_type": "code",
   "execution_count": 5,
   "metadata": {},
   "outputs": [
    {
     "data": {
      "text/plain": [
       "Compose(\n",
       "    Resize(size=(224, 224), interpolation=bilinear, max_size=None, antialias=True)\n",
       "    Normalize(mean=[0.485, 0.456, 0.406], std=[0.229, 0.224, 0.225])\n",
       ")"
      ]
     },
     "execution_count": 5,
     "metadata": {},
     "output_type": "execute_result"
    }
   ],
   "source": [
    "from torchvision import transforms \n",
    "\n",
    "manual_transforms = transforms.Compose([\n",
    "    transforms.Resize((224, 224)), \n",
    "    transforms.Normalize(mean=[0.485, 0.456, 0.406], std=[0.229, 0.224, 0.225]), \n",
    "    # transforms.ToTensor()\n",
    "])\n",
    "\n",
    "manual_transforms "
   ]
  },
  {
   "cell_type": "code",
   "execution_count": 7,
   "metadata": {},
   "outputs": [
    {
     "data": {
      "text/plain": [
       "Sequential(\n",
       "  (0): Dropout(p=0.2, inplace=True)\n",
       "  (1): Linear(in_features=1280, out_features=1000, bias=True)\n",
       ")"
      ]
     },
     "execution_count": 7,
     "metadata": {},
     "output_type": "execute_result"
    }
   ],
   "source": [
    "import torchvision\n",
    "\n",
    "weights = torchvision.models.EfficientNet_B0_Weights.DEFAULT \n",
    "\n",
    "model = torchvision.models.efficientnet_b0(weights=weights).to(device) \n",
    "model.classifier "
   ]
  },
  {
   "cell_type": "code",
   "execution_count": 8,
   "metadata": {},
   "outputs": [
    {
     "data": {
      "text/plain": [
       "ImageClassification(\n",
       "    crop_size=[224]\n",
       "    resize_size=[256]\n",
       "    mean=[0.485, 0.456, 0.406]\n",
       "    std=[0.229, 0.224, 0.225]\n",
       "    interpolation=InterpolationMode.BICUBIC\n",
       ")"
      ]
     },
     "execution_count": 8,
     "metadata": {},
     "output_type": "execute_result"
    }
   ],
   "source": [
    "auto_transforms = weights.transforms() \n",
    "auto_transforms "
   ]
  },
  {
   "cell_type": "code",
   "execution_count": 9,
   "metadata": {},
   "outputs": [
    {
     "data": {
      "text/plain": [
       "(<torch.utils.data.dataloader.DataLoader at 0x236b1a349d0>,\n",
       " <torch.utils.data.dataloader.DataLoader at 0x236af9decd0>,\n",
       " ['pizza', 'steak', 'sushi'])"
      ]
     },
     "execution_count": 9,
     "metadata": {},
     "output_type": "execute_result"
    }
   ],
   "source": [
    "from going_modular import data_setup \n",
    "\n",
    "train_dataloader, test_dataloader, class_names = data_setup.create_dataloaders(train_dir, test_dir, auto_transforms, 32)\n",
    "train_dataloader, test_dataloader, class_names"
   ]
  },
  {
   "cell_type": "code",
   "execution_count": 10,
   "metadata": {},
   "outputs": [],
   "source": [
    "for param in model.features.parameters(): \n",
    "    param.requires_grad = False \n",
    "    "
   ]
  },
  {
   "cell_type": "code",
   "execution_count": 11,
   "metadata": {},
   "outputs": [],
   "source": [
    "from torch import nn \n",
    "\n",
    "model.classifier = nn.Sequential(\n",
    "    nn.Dropout(p=0.2, inplace=True), \n",
    "    nn.Linear(in_features=1280, out_features=len(class_names)) \n",
    ").to(device) "
   ]
  },
  {
   "cell_type": "code",
   "execution_count": 12,
   "metadata": {},
   "outputs": [
    {
     "data": {
      "text/plain": [
       "============================================================================================================================================\n",
       "Layer (type (var_name))                                      Input Shape          Output Shape         Param #              Trainable\n",
       "============================================================================================================================================\n",
       "EfficientNet (EfficientNet)                                  [32, 3, 224, 224]    [32, 3]              --                   Partial\n",
       "├─Sequential (features)                                      [32, 3, 224, 224]    [32, 1280, 7, 7]     --                   False\n",
       "│    └─Conv2dNormActivation (0)                              [32, 3, 224, 224]    [32, 32, 112, 112]   --                   False\n",
       "│    │    └─Conv2d (0)                                       [32, 3, 224, 224]    [32, 32, 112, 112]   (864)                False\n",
       "│    │    └─BatchNorm2d (1)                                  [32, 32, 112, 112]   [32, 32, 112, 112]   (64)                 False\n",
       "│    │    └─SiLU (2)                                         [32, 32, 112, 112]   [32, 32, 112, 112]   --                   --\n",
       "│    └─Sequential (1)                                        [32, 32, 112, 112]   [32, 16, 112, 112]   --                   False\n",
       "│    │    └─MBConv (0)                                       [32, 32, 112, 112]   [32, 16, 112, 112]   (1,448)              False\n",
       "│    └─Sequential (2)                                        [32, 16, 112, 112]   [32, 24, 56, 56]     --                   False\n",
       "│    │    └─MBConv (0)                                       [32, 16, 112, 112]   [32, 24, 56, 56]     (6,004)              False\n",
       "│    │    └─MBConv (1)                                       [32, 24, 56, 56]     [32, 24, 56, 56]     (10,710)             False\n",
       "│    └─Sequential (3)                                        [32, 24, 56, 56]     [32, 40, 28, 28]     --                   False\n",
       "│    │    └─MBConv (0)                                       [32, 24, 56, 56]     [32, 40, 28, 28]     (15,350)             False\n",
       "│    │    └─MBConv (1)                                       [32, 40, 28, 28]     [32, 40, 28, 28]     (31,290)             False\n",
       "│    └─Sequential (4)                                        [32, 40, 28, 28]     [32, 80, 14, 14]     --                   False\n",
       "│    │    └─MBConv (0)                                       [32, 40, 28, 28]     [32, 80, 14, 14]     (37,130)             False\n",
       "│    │    └─MBConv (1)                                       [32, 80, 14, 14]     [32, 80, 14, 14]     (102,900)            False\n",
       "│    │    └─MBConv (2)                                       [32, 80, 14, 14]     [32, 80, 14, 14]     (102,900)            False\n",
       "│    └─Sequential (5)                                        [32, 80, 14, 14]     [32, 112, 14, 14]    --                   False\n",
       "│    │    └─MBConv (0)                                       [32, 80, 14, 14]     [32, 112, 14, 14]    (126,004)            False\n",
       "│    │    └─MBConv (1)                                       [32, 112, 14, 14]    [32, 112, 14, 14]    (208,572)            False\n",
       "│    │    └─MBConv (2)                                       [32, 112, 14, 14]    [32, 112, 14, 14]    (208,572)            False\n",
       "│    └─Sequential (6)                                        [32, 112, 14, 14]    [32, 192, 7, 7]      --                   False\n",
       "│    │    └─MBConv (0)                                       [32, 112, 14, 14]    [32, 192, 7, 7]      (262,492)            False\n",
       "│    │    └─MBConv (1)                                       [32, 192, 7, 7]      [32, 192, 7, 7]      (587,952)            False\n",
       "│    │    └─MBConv (2)                                       [32, 192, 7, 7]      [32, 192, 7, 7]      (587,952)            False\n",
       "│    │    └─MBConv (3)                                       [32, 192, 7, 7]      [32, 192, 7, 7]      (587,952)            False\n",
       "│    └─Sequential (7)                                        [32, 192, 7, 7]      [32, 320, 7, 7]      --                   False\n",
       "│    │    └─MBConv (0)                                       [32, 192, 7, 7]      [32, 320, 7, 7]      (717,232)            False\n",
       "│    └─Conv2dNormActivation (8)                              [32, 320, 7, 7]      [32, 1280, 7, 7]     --                   False\n",
       "│    │    └─Conv2d (0)                                       [32, 320, 7, 7]      [32, 1280, 7, 7]     (409,600)            False\n",
       "│    │    └─BatchNorm2d (1)                                  [32, 1280, 7, 7]     [32, 1280, 7, 7]     (2,560)              False\n",
       "│    │    └─SiLU (2)                                         [32, 1280, 7, 7]     [32, 1280, 7, 7]     --                   --\n",
       "├─AdaptiveAvgPool2d (avgpool)                                [32, 1280, 7, 7]     [32, 1280, 1, 1]     --                   --\n",
       "├─Sequential (classifier)                                    [32, 1280]           [32, 3]              --                   True\n",
       "│    └─Dropout (0)                                           [32, 1280]           [32, 1280]           --                   --\n",
       "│    └─Linear (1)                                            [32, 1280]           [32, 3]              3,843                True\n",
       "============================================================================================================================================\n",
       "Total params: 4,011,391\n",
       "Trainable params: 3,843\n",
       "Non-trainable params: 4,007,548\n",
       "Total mult-adds (Units.GIGABYTES): 12.31\n",
       "============================================================================================================================================\n",
       "Input size (MB): 19.27\n",
       "Forward/backward pass size (MB): 3452.09\n",
       "Params size (MB): 16.05\n",
       "Estimated Total Size (MB): 3487.41\n",
       "============================================================================================================================================"
      ]
     },
     "execution_count": 12,
     "metadata": {},
     "output_type": "execute_result"
    }
   ],
   "source": [
    "from torchinfo import summary \n",
    "\n",
    "summary(model, \n",
    "        input_size=(32, 3, 224, 224), \n",
    "        verbose=0, \n",
    "        col_names=[\"input_size\", \"output_size\", \"num_params\", \"trainable\"], \n",
    "        col_width=20, \n",
    "        row_settings=[\"var_names\"]\n",
    "        )"
   ]
  },
  {
   "cell_type": "code",
   "execution_count": 13,
   "metadata": {},
   "outputs": [],
   "source": [
    "loss_fn = nn.CrossEntropyLoss() \n",
    "optimizer = torch.optim.Adam(model.parameters(), lr=0.001) "
   ]
  },
  {
   "cell_type": "code",
   "execution_count": 14,
   "metadata": {},
   "outputs": [
    {
     "data": {
      "text/plain": [
       "<torch.utils.tensorboard.writer.SummaryWriter at 0x236b1ba5d90>"
      ]
     },
     "execution_count": 14,
     "metadata": {},
     "output_type": "execute_result"
    }
   ],
   "source": [
    "from torch.utils.tensorboard import SummaryWriter \n",
    "\n",
    "writer = SummaryWriter() \n",
    "writer "
   ]
  },
  {
   "cell_type": "code",
   "execution_count": 15,
   "metadata": {},
   "outputs": [],
   "source": [
    "from going_modular.engine import train_step, test_step \n",
    "\n",
    "def train(model, train_dataloader, test_dataloader, optimizer, loss_fn, epochs, device):  \n",
    "   \n",
    "    results = {\"train_loss\": [], \"train_acc\": [], \"test_loss\": [], \"test_acc\": []} \n",
    "    \n",
    "    for epoch in range(epochs): \n",
    "        train_loss, train_acc = train_step(model, train_dataloader, loss_fn, optimizer, device) \n",
    "        test_loss, test_acc = test_step(model, test_dataloader, loss_fn, device) \n",
    "        \n",
    "        print(f\"Epoch: {epoch+1} | \"\n",
    "              f\"train_loss: {train_loss:.4f} | \" \n",
    "              f\"train_acc: {train_acc:.4f} | \"\n",
    "              f\"test_loss: {test_loss:.4f} | \"\n",
    "              f\"test_acc: {test_acc:.4f}\") \n",
    "        \n",
    "        results[\"train_loss\"].append(train_loss) \n",
    "        results[\"train_acc\"].append(train_acc) \n",
    "        results[\"test_loss\"].append(test_loss) \n",
    "        results[\"test_acc\"].append(test_acc)  \n",
    "        \n",
    "        \n",
    "        writer.add_scalars(\n",
    "            main_tag=\"Loss\", \n",
    "            tag_scalar_dict={\"train_loss\": train_loss, \n",
    "                             \"test_loss\": test_loss}, \n",
    "            global_step=epoch) \n",
    "        \n",
    "        writer.add_scalars(\n",
    "            main_tag=\"Accuracy\", \n",
    "            tag_scalar_dict={\"train_acc\": train_acc, \n",
    "                             \"test_acc\": test_acc}, \n",
    "            global_step=epoch) \n",
    "        \n",
    "        writer.add_graph(model=model, \n",
    "                         input_to_model=torch.randn(32, 3, 244, 244).to(device)) \n",
    "        \n",
    "    writer.close()  \n",
    "        \n",
    "    return results "
   ]
  },
  {
   "cell_type": "code",
   "execution_count": 16,
   "metadata": {},
   "outputs": [
    {
     "name": "stdout",
     "output_type": "stream",
     "text": [
      "Epoch: 1 | train_loss: 1.0946 | train_acc: 0.4023 | test_loss: 0.9456 | test_acc: 0.6818\n",
      "Epoch: 2 | train_loss: 0.9087 | train_acc: 0.6445 | test_loss: 0.8419 | test_acc: 0.6723\n",
      "Epoch: 3 | train_loss: 0.7981 | train_acc: 0.7500 | test_loss: 0.6751 | test_acc: 0.8759\n",
      "Epoch: 4 | train_loss: 0.7111 | train_acc: 0.7500 | test_loss: 0.7000 | test_acc: 0.8049\n",
      "Epoch: 5 | train_loss: 0.6245 | train_acc: 0.7891 | test_loss: 0.6836 | test_acc: 0.7945\n"
     ]
    }
   ],
   "source": [
    "set_seed() \n",
    "results = train(model=model, \n",
    "                train_dataloader=train_dataloader, \n",
    "                test_dataloader=test_dataloader, \n",
    "                optimizer=optimizer, \n",
    "                loss_fn=loss_fn, \n",
    "                epochs=5, \n",
    "                device=device)"
   ]
  },
  {
   "cell_type": "code",
   "execution_count": 17,
   "metadata": {},
   "outputs": [],
   "source": [
    "# %load_ext tensorboard\n",
    "# # %reload_ext tensorboard \n",
    "# %tensorboard --logdir runs "
   ]
  },
  {
   "cell_type": "code",
   "execution_count": 18,
   "metadata": {},
   "outputs": [],
   "source": [
    "import os \n",
    "from datetime import datetime \n",
    "\n",
    "def create_writer(experiment_name, model_name, extra): \n",
    "    \"\"\"Creates a torch.utils.tensorboard.writer.SummaryWriter() instance tracking to a specific experiment\"\"\"\n",
    "    timestamp = datetime.now().strftime(\"%y-%m-%d\") \n",
    "    \n",
    "    if extra: \n",
    "        log_dir = os.path.join(\"runs\", timestamp, experiment_name, extra)\n",
    "    else: \n",
    "        log_dir = os.path.join(\"runs\", timestamp, experiment_name) \n",
    "        \n",
    "    print(f\"[INFO] Created SummaryWriter saving to {log_dir}\")\n",
    "        \n",
    "    return SummaryWriter(log_dir=log_dir) "
   ]
  },
  {
   "cell_type": "code",
   "execution_count": 19,
   "metadata": {},
   "outputs": [],
   "source": [
    "def train(model, train_dataloader, test_dataloader, optimizer, loss_fn, epochs, device, writer):  \n",
    "   \n",
    "    results = {\"train_loss\": [], \"train_acc\": [], \"test_loss\": [], \"test_acc\": []} \n",
    "    \n",
    "    for epoch in range(epochs): \n",
    "        train_loss, train_acc = train_step(model, train_dataloader, loss_fn, optimizer, device) \n",
    "        test_loss, test_acc = test_step(model, test_dataloader, loss_fn, device) \n",
    "        \n",
    "        print(f\"Epoch: {epoch+1} | \"\n",
    "              f\"train_loss: {train_loss:.4f} | \" \n",
    "              f\"train_acc: {train_acc:.4f} | \"\n",
    "              f\"test_loss: {test_loss:.4f} | \"\n",
    "              f\"test_acc: {test_acc:.4f}\") \n",
    "        \n",
    "        results[\"train_loss\"].append(train_loss) \n",
    "        results[\"train_acc\"].append(train_acc) \n",
    "        results[\"test_loss\"].append(test_loss) \n",
    "        results[\"test_acc\"].append(test_acc)  \n",
    "        \n",
    "        \n",
    "        if writer: \n",
    "            writer.add_scalars(\n",
    "                main_tag=\"Loss\", \n",
    "                tag_scalar_dict={\"train_loss\": train_loss, \n",
    "                                \"test_loss\": test_loss}, \n",
    "                global_step=epoch) \n",
    "            \n",
    "            writer.add_scalars(\n",
    "                main_tag=\"Accuracy\", \n",
    "                tag_scalar_dict={\"train_acc\": train_acc, \n",
    "                                \"test_acc\": test_acc}, \n",
    "                global_step=epoch) \n",
    "            \n",
    "            writer.add_graph(model=model, \n",
    "                            input_to_model=torch.randn(32, 3, 244, 244).to(device)) \n",
    "        \n",
    "            writer.close()  \n",
    "        else: \n",
    "            pass \n",
    "        \n",
    "    return results "
   ]
  },
  {
   "cell_type": "code",
   "execution_count": 21,
   "metadata": {},
   "outputs": [],
   "source": [
    "data_10_percent = Path(\"data/pizza_steak_sushi\")\n",
    "data_20_percent = Path(\"data/pizza_steak_sushi_20_percent\")  \n",
    "\n",
    "train_dir_10_percent = data_10_percent / \"train\" \n",
    "train_dir_20_percent = data_20_percent / \"train\" \n",
    "\n",
    "test_dir = data_10_percent / \"test\"\n"
   ]
  },
  {
   "cell_type": "code",
   "execution_count": 23,
   "metadata": {},
   "outputs": [
    {
     "name": "stdout",
     "output_type": "stream",
     "text": [
      "Number of batches of size 32 in 10% train data: 8\n",
      "Number of batches of size 32 in 20% train data: 15\n"
     ]
    }
   ],
   "source": [
    "BATCH_SIZE = 32 \n",
    "\n",
    "train_dataloader_10_percent, test_dataloader_10_percent, class_names = data_setup.create_dataloaders(train_dir=train_dir_10_percent, \n",
    "                                                                                                     test_dir=test_dir, \n",
    "                                                                                                     transform=auto_transforms, \n",
    "                                                                                                     batch_size=BATCH_SIZE) \n",
    "\n",
    "train_dataloader_20_percent, test_dataloader_20_percent, class_names = data_setup.create_dataloaders(train_dir=train_dir_20_percent, \n",
    "                                                                                                     test_dir=test_dir, \n",
    "                                                                                                     transform=auto_transforms, \n",
    "                                                                                                     batch_size=BATCH_SIZE) \n",
    "\n",
    "print(f\"Number of batches of size {BATCH_SIZE} in 10% train data: {len(train_dataloader_10_percent)}\")\n",
    "print(f\"Number of batches of size {BATCH_SIZE} in 20% train data: {len(train_dataloader_20_percent)}\") \n"
   ]
  },
  {
   "cell_type": "code",
   "execution_count": 24,
   "metadata": {},
   "outputs": [
    {
     "name": "stderr",
     "output_type": "stream",
     "text": [
      "Downloading: \"https://download.pytorch.org/models/efficientnet_b2_rwightman-c35c1473.pth\" to C:\\Users\\jusung/.cache\\torch\\hub\\checkpoints\\efficientnet_b2_rwightman-c35c1473.pth\n",
      "100%|██████████| 35.2M/35.2M [00:00<00:00, 37.6MB/s]\n"
     ]
    },
    {
     "data": {
      "text/plain": [
       "Sequential(\n",
       "  (0): Dropout(p=0.3, inplace=True)\n",
       "  (1): Linear(in_features=1408, out_features=1000, bias=True)\n",
       ")"
      ]
     },
     "execution_count": 24,
     "metadata": {},
     "output_type": "execute_result"
    }
   ],
   "source": [
    "import torchvision \n",
    "\n",
    "effinetb2_weights = torchvision.models.EfficientNet_B2_Weights.DEFAULT \n",
    "effinetb2 = torchvision.models.efficientnet_b2(weights=effinetb2_weights) \n",
    "effinetb2.classifier "
   ]
  },
  {
   "cell_type": "code",
   "execution_count": 25,
   "metadata": {},
   "outputs": [],
   "source": [
    "OUT_FEATURES = len(class_names) \n",
    "\n",
    "def create_effinetb0(): \n",
    "    weights = torchvision.models.EfficientNet_B0_Weights.DEFAULT \n",
    "    model = torchvision.models.efficientnet_b0(weights=weights).to(device) \n",
    "    \n",
    "    for param in model.features.parameters(): \n",
    "        param.requires_grad = False \n",
    "        \n",
    "    set_seed() \n",
    "    model.classifier = nn.Sequential(\n",
    "        nn.Dropout(p=0.2, inplace=True), \n",
    "        nn.Linear(in_features=1280, out_features=OUT_FEATURES) \n",
    "    ).to(device) \n",
    "    \n",
    "    model.name = \"effnetb0\" \n",
    "    print(f\"[INFO] Create new {model.name} model...\") \n",
    "    \n",
    "    return model "
   ]
  },
  {
   "cell_type": "code",
   "execution_count": 26,
   "metadata": {},
   "outputs": [],
   "source": [
    "def create_effinetb2(): \n",
    "    weights = torchvision.models.EfficientNet_B2_Weights.DEFAULT \n",
    "    model = torchvision.models.efficientnet_b2(weights=weights).to(device) \n",
    "    \n",
    "    for param in model.features.parameters(): \n",
    "        param.requires_grad = False \n",
    "        \n",
    "    set_seed() \n",
    "    model.classifier = nn.Sequential(\n",
    "        nn.Dropout(p=0.3, inplace=True), \n",
    "        nn.Linear(in_features=1408, out_features=OUT_FEATURES) \n",
    "    ).to(device) \n",
    "    \n",
    "    model.name = \"effnetb2\" \n",
    "    print(f\"[INFO] Create new {model.name} model...\") \n",
    "    \n",
    "    return model "
   ]
  },
  {
   "cell_type": "code",
   "execution_count": 27,
   "metadata": {},
   "outputs": [
    {
     "name": "stdout",
     "output_type": "stream",
     "text": [
      "[INFO] Create new effnetb0 model...\n"
     ]
    },
    {
     "data": {
      "text/plain": [
       "============================================================================================================================================\n",
       "Layer (type (var_name))                                      Input Shape          Output Shape         Param #              Trainable\n",
       "============================================================================================================================================\n",
       "EfficientNet (EfficientNet)                                  [32, 3, 224, 224]    [32, 3]              --                   Partial\n",
       "├─Sequential (features)                                      [32, 3, 224, 224]    [32, 1280, 7, 7]     --                   False\n",
       "│    └─Conv2dNormActivation (0)                              [32, 3, 224, 224]    [32, 32, 112, 112]   --                   False\n",
       "│    │    └─Conv2d (0)                                       [32, 3, 224, 224]    [32, 32, 112, 112]   (864)                False\n",
       "│    │    └─BatchNorm2d (1)                                  [32, 32, 112, 112]   [32, 32, 112, 112]   (64)                 False\n",
       "│    │    └─SiLU (2)                                         [32, 32, 112, 112]   [32, 32, 112, 112]   --                   --\n",
       "│    └─Sequential (1)                                        [32, 32, 112, 112]   [32, 16, 112, 112]   --                   False\n",
       "│    │    └─MBConv (0)                                       [32, 32, 112, 112]   [32, 16, 112, 112]   (1,448)              False\n",
       "│    └─Sequential (2)                                        [32, 16, 112, 112]   [32, 24, 56, 56]     --                   False\n",
       "│    │    └─MBConv (0)                                       [32, 16, 112, 112]   [32, 24, 56, 56]     (6,004)              False\n",
       "│    │    └─MBConv (1)                                       [32, 24, 56, 56]     [32, 24, 56, 56]     (10,710)             False\n",
       "│    └─Sequential (3)                                        [32, 24, 56, 56]     [32, 40, 28, 28]     --                   False\n",
       "│    │    └─MBConv (0)                                       [32, 24, 56, 56]     [32, 40, 28, 28]     (15,350)             False\n",
       "│    │    └─MBConv (1)                                       [32, 40, 28, 28]     [32, 40, 28, 28]     (31,290)             False\n",
       "│    └─Sequential (4)                                        [32, 40, 28, 28]     [32, 80, 14, 14]     --                   False\n",
       "│    │    └─MBConv (0)                                       [32, 40, 28, 28]     [32, 80, 14, 14]     (37,130)             False\n",
       "│    │    └─MBConv (1)                                       [32, 80, 14, 14]     [32, 80, 14, 14]     (102,900)            False\n",
       "│    │    └─MBConv (2)                                       [32, 80, 14, 14]     [32, 80, 14, 14]     (102,900)            False\n",
       "│    └─Sequential (5)                                        [32, 80, 14, 14]     [32, 112, 14, 14]    --                   False\n",
       "│    │    └─MBConv (0)                                       [32, 80, 14, 14]     [32, 112, 14, 14]    (126,004)            False\n",
       "│    │    └─MBConv (1)                                       [32, 112, 14, 14]    [32, 112, 14, 14]    (208,572)            False\n",
       "│    │    └─MBConv (2)                                       [32, 112, 14, 14]    [32, 112, 14, 14]    (208,572)            False\n",
       "│    └─Sequential (6)                                        [32, 112, 14, 14]    [32, 192, 7, 7]      --                   False\n",
       "│    │    └─MBConv (0)                                       [32, 112, 14, 14]    [32, 192, 7, 7]      (262,492)            False\n",
       "│    │    └─MBConv (1)                                       [32, 192, 7, 7]      [32, 192, 7, 7]      (587,952)            False\n",
       "│    │    └─MBConv (2)                                       [32, 192, 7, 7]      [32, 192, 7, 7]      (587,952)            False\n",
       "│    │    └─MBConv (3)                                       [32, 192, 7, 7]      [32, 192, 7, 7]      (587,952)            False\n",
       "│    └─Sequential (7)                                        [32, 192, 7, 7]      [32, 320, 7, 7]      --                   False\n",
       "│    │    └─MBConv (0)                                       [32, 192, 7, 7]      [32, 320, 7, 7]      (717,232)            False\n",
       "│    └─Conv2dNormActivation (8)                              [32, 320, 7, 7]      [32, 1280, 7, 7]     --                   False\n",
       "│    │    └─Conv2d (0)                                       [32, 320, 7, 7]      [32, 1280, 7, 7]     (409,600)            False\n",
       "│    │    └─BatchNorm2d (1)                                  [32, 1280, 7, 7]     [32, 1280, 7, 7]     (2,560)              False\n",
       "│    │    └─SiLU (2)                                         [32, 1280, 7, 7]     [32, 1280, 7, 7]     --                   --\n",
       "├─AdaptiveAvgPool2d (avgpool)                                [32, 1280, 7, 7]     [32, 1280, 1, 1]     --                   --\n",
       "├─Sequential (classifier)                                    [32, 1280]           [32, 3]              --                   True\n",
       "│    └─Dropout (0)                                           [32, 1280]           [32, 1280]           --                   --\n",
       "│    └─Linear (1)                                            [32, 1280]           [32, 3]              3,843                True\n",
       "============================================================================================================================================\n",
       "Total params: 4,011,391\n",
       "Trainable params: 3,843\n",
       "Non-trainable params: 4,007,548\n",
       "Total mult-adds (Units.GIGABYTES): 12.31\n",
       "============================================================================================================================================\n",
       "Input size (MB): 19.27\n",
       "Forward/backward pass size (MB): 3452.09\n",
       "Params size (MB): 16.05\n",
       "Estimated Total Size (MB): 3487.41\n",
       "============================================================================================================================================"
      ]
     },
     "execution_count": 27,
     "metadata": {},
     "output_type": "execute_result"
    }
   ],
   "source": [
    "effinetb0 = create_effinetb0() \n",
    "\n",
    "summary(effinetb0, \n",
    "        input_size=(32, 3, 224, 224), \n",
    "        verbose=0, \n",
    "        col_names=[\"input_size\", \"output_size\", \"num_params\", \"trainable\"], \n",
    "        col_width=20, \n",
    "        row_settings=[\"var_names\"]\n",
    "        )"
   ]
  },
  {
   "cell_type": "code",
   "execution_count": 28,
   "metadata": {},
   "outputs": [
    {
     "name": "stdout",
     "output_type": "stream",
     "text": [
      "[INFO] Create new effnetb2 model...\n"
     ]
    },
    {
     "data": {
      "text/plain": [
       "============================================================================================================================================\n",
       "Layer (type (var_name))                                      Input Shape          Output Shape         Param #              Trainable\n",
       "============================================================================================================================================\n",
       "EfficientNet (EfficientNet)                                  [32, 3, 224, 224]    [32, 3]              --                   Partial\n",
       "├─Sequential (features)                                      [32, 3, 224, 224]    [32, 1408, 7, 7]     --                   False\n",
       "│    └─Conv2dNormActivation (0)                              [32, 3, 224, 224]    [32, 32, 112, 112]   --                   False\n",
       "│    │    └─Conv2d (0)                                       [32, 3, 224, 224]    [32, 32, 112, 112]   (864)                False\n",
       "│    │    └─BatchNorm2d (1)                                  [32, 32, 112, 112]   [32, 32, 112, 112]   (64)                 False\n",
       "│    │    └─SiLU (2)                                         [32, 32, 112, 112]   [32, 32, 112, 112]   --                   --\n",
       "│    └─Sequential (1)                                        [32, 32, 112, 112]   [32, 16, 112, 112]   --                   False\n",
       "│    │    └─MBConv (0)                                       [32, 32, 112, 112]   [32, 16, 112, 112]   (1,448)              False\n",
       "│    │    └─MBConv (1)                                       [32, 16, 112, 112]   [32, 16, 112, 112]   (612)                False\n",
       "│    └─Sequential (2)                                        [32, 16, 112, 112]   [32, 24, 56, 56]     --                   False\n",
       "│    │    └─MBConv (0)                                       [32, 16, 112, 112]   [32, 24, 56, 56]     (6,004)              False\n",
       "│    │    └─MBConv (1)                                       [32, 24, 56, 56]     [32, 24, 56, 56]     (10,710)             False\n",
       "│    │    └─MBConv (2)                                       [32, 24, 56, 56]     [32, 24, 56, 56]     (10,710)             False\n",
       "│    └─Sequential (3)                                        [32, 24, 56, 56]     [32, 48, 28, 28]     --                   False\n",
       "│    │    └─MBConv (0)                                       [32, 24, 56, 56]     [32, 48, 28, 28]     (16,518)             False\n",
       "│    │    └─MBConv (1)                                       [32, 48, 28, 28]     [32, 48, 28, 28]     (43,308)             False\n",
       "│    │    └─MBConv (2)                                       [32, 48, 28, 28]     [32, 48, 28, 28]     (43,308)             False\n",
       "│    └─Sequential (4)                                        [32, 48, 28, 28]     [32, 88, 14, 14]     --                   False\n",
       "│    │    └─MBConv (0)                                       [32, 48, 28, 28]     [32, 88, 14, 14]     (50,300)             False\n",
       "│    │    └─MBConv (1)                                       [32, 88, 14, 14]     [32, 88, 14, 14]     (123,750)            False\n",
       "│    │    └─MBConv (2)                                       [32, 88, 14, 14]     [32, 88, 14, 14]     (123,750)            False\n",
       "│    │    └─MBConv (3)                                       [32, 88, 14, 14]     [32, 88, 14, 14]     (123,750)            False\n",
       "│    └─Sequential (5)                                        [32, 88, 14, 14]     [32, 120, 14, 14]    --                   False\n",
       "│    │    └─MBConv (0)                                       [32, 88, 14, 14]     [32, 120, 14, 14]    (149,158)            False\n",
       "│    │    └─MBConv (1)                                       [32, 120, 14, 14]    [32, 120, 14, 14]    (237,870)            False\n",
       "│    │    └─MBConv (2)                                       [32, 120, 14, 14]    [32, 120, 14, 14]    (237,870)            False\n",
       "│    │    └─MBConv (3)                                       [32, 120, 14, 14]    [32, 120, 14, 14]    (237,870)            False\n",
       "│    └─Sequential (6)                                        [32, 120, 14, 14]    [32, 208, 7, 7]      --                   False\n",
       "│    │    └─MBConv (0)                                       [32, 120, 14, 14]    [32, 208, 7, 7]      (301,406)            False\n",
       "│    │    └─MBConv (1)                                       [32, 208, 7, 7]      [32, 208, 7, 7]      (686,868)            False\n",
       "│    │    └─MBConv (2)                                       [32, 208, 7, 7]      [32, 208, 7, 7]      (686,868)            False\n",
       "│    │    └─MBConv (3)                                       [32, 208, 7, 7]      [32, 208, 7, 7]      (686,868)            False\n",
       "│    │    └─MBConv (4)                                       [32, 208, 7, 7]      [32, 208, 7, 7]      (686,868)            False\n",
       "│    └─Sequential (7)                                        [32, 208, 7, 7]      [32, 352, 7, 7]      --                   False\n",
       "│    │    └─MBConv (0)                                       [32, 208, 7, 7]      [32, 352, 7, 7]      (846,900)            False\n",
       "│    │    └─MBConv (1)                                       [32, 352, 7, 7]      [32, 352, 7, 7]      (1,888,920)          False\n",
       "│    └─Conv2dNormActivation (8)                              [32, 352, 7, 7]      [32, 1408, 7, 7]     --                   False\n",
       "│    │    └─Conv2d (0)                                       [32, 352, 7, 7]      [32, 1408, 7, 7]     (495,616)            False\n",
       "│    │    └─BatchNorm2d (1)                                  [32, 1408, 7, 7]     [32, 1408, 7, 7]     (2,816)              False\n",
       "│    │    └─SiLU (2)                                         [32, 1408, 7, 7]     [32, 1408, 7, 7]     --                   --\n",
       "├─AdaptiveAvgPool2d (avgpool)                                [32, 1408, 7, 7]     [32, 1408, 1, 1]     --                   --\n",
       "├─Sequential (classifier)                                    [32, 1408]           [32, 3]              --                   True\n",
       "│    └─Dropout (0)                                           [32, 1408]           [32, 1408]           --                   --\n",
       "│    └─Linear (1)                                            [32, 1408]           [32, 3]              4,227                True\n",
       "============================================================================================================================================\n",
       "Total params: 7,705,221\n",
       "Trainable params: 4,227\n",
       "Non-trainable params: 7,700,994\n",
       "Total mult-adds (Units.GIGABYTES): 21.04\n",
       "============================================================================================================================================\n",
       "Input size (MB): 19.27\n",
       "Forward/backward pass size (MB): 5017.53\n",
       "Params size (MB): 30.82\n",
       "Estimated Total Size (MB): 5067.62\n",
       "============================================================================================================================================"
      ]
     },
     "execution_count": 28,
     "metadata": {},
     "output_type": "execute_result"
    }
   ],
   "source": [
    "effinetb2 = create_effinetb2() \n",
    "\n",
    "summary(effinetb2, \n",
    "        input_size=(32, 3, 224, 224), \n",
    "        verbose=0, \n",
    "        col_names=[\"input_size\", \"output_size\", \"num_params\", \"trainable\"], \n",
    "        col_width=20, \n",
    "        row_settings=[\"var_names\"]\n",
    "        )"
   ]
  },
  {
   "cell_type": "code",
   "execution_count": 30,
   "metadata": {},
   "outputs": [],
   "source": [
    "num_epochs = [5, 10] \n",
    "\n",
    "models = [\"effnetb0\", \"effnet2\"] \n",
    "\n",
    "train_dataloaders = {\"data_10_percent\": train_dataloader_10_percent, \n",
    "                    \"data_20_percent\": train_dataloader_20_percent} "
   ]
  },
  {
   "cell_type": "code",
   "execution_count": 31,
   "metadata": {},
   "outputs": [
    {
     "name": "stdout",
     "output_type": "stream",
     "text": [
      "[INFO] Experiment number: 1\n",
      "[INFO] Model: effnetb0\n",
      "[INFO] DataLoader: data_10_percent\n",
      "[INFO] Number of epochs: 5\n",
      "[INFO] Create new effnetb0 model...\n",
      "[INFO] Created SummaryWriter saving to runs\\24-03-12\\data_10_percent\\5_epochs\n",
      "Epoch: 1 | train_loss: 1.0552 | train_acc: 0.4805 | test_loss: 0.8709 | test_acc: 0.6818\n",
      "Epoch: 2 | train_loss: 0.8992 | train_acc: 0.5898 | test_loss: 0.8043 | test_acc: 0.6922\n",
      "Epoch: 3 | train_loss: 0.7991 | train_acc: 0.6797 | test_loss: 0.6483 | test_acc: 0.9062\n",
      "Epoch: 4 | train_loss: 0.6869 | train_acc: 0.8828 | test_loss: 0.6164 | test_acc: 0.8864\n",
      "Epoch: 5 | train_loss: 0.6340 | train_acc: 0.8438 | test_loss: 0.6240 | test_acc: 0.8352\n",
      "[INfO] Saving model to: saved_models\\07_effnetb0_data_10_percent_5_epochs.pth\n",
      "--------------------------------------------------\n",
      "\n",
      "[INFO] Experiment number: 2\n",
      "[INFO] Model: effnet2\n",
      "[INFO] DataLoader: data_10_percent\n",
      "[INFO] Number of epochs: 5\n",
      "[INFO] Create new effnetb2 model...\n",
      "[INFO] Created SummaryWriter saving to runs\\24-03-12\\data_10_percent\\5_epochs\n",
      "Epoch: 1 | train_loss: 1.0882 | train_acc: 0.3945 | test_loss: 0.9509 | test_acc: 0.6903\n",
      "Epoch: 2 | train_loss: 0.8842 | train_acc: 0.7852 | test_loss: 0.8636 | test_acc: 0.7434\n",
      "Epoch: 3 | train_loss: 0.8085 | train_acc: 0.7578 | test_loss: 0.7706 | test_acc: 0.8362\n",
      "Epoch: 4 | train_loss: 0.7628 | train_acc: 0.7383 | test_loss: 0.6753 | test_acc: 0.8750\n",
      "Epoch: 5 | train_loss: 0.6430 | train_acc: 0.8086 | test_loss: 0.6626 | test_acc: 0.9271\n",
      "[INfO] Saving model to: saved_models\\07_effnet2_data_10_percent_5_epochs.pth\n",
      "--------------------------------------------------\n",
      "\n",
      "[INFO] Experiment number: 3\n",
      "[INFO] Model: effnetb0\n",
      "[INFO] DataLoader: data_10_percent\n",
      "[INFO] Number of epochs: 10\n",
      "[INFO] Create new effnetb0 model...\n",
      "[INFO] Created SummaryWriter saving to runs\\24-03-12\\data_10_percent\\10_epochs\n",
      "Epoch: 1 | train_loss: 1.0552 | train_acc: 0.4805 | test_loss: 0.8709 | test_acc: 0.6818\n",
      "Epoch: 2 | train_loss: 0.8992 | train_acc: 0.5898 | test_loss: 0.8043 | test_acc: 0.6922\n",
      "Epoch: 3 | train_loss: 0.7991 | train_acc: 0.6797 | test_loss: 0.6483 | test_acc: 0.9062\n",
      "Epoch: 4 | train_loss: 0.6869 | train_acc: 0.8828 | test_loss: 0.6164 | test_acc: 0.8864\n",
      "Epoch: 5 | train_loss: 0.6340 | train_acc: 0.8438 | test_loss: 0.6240 | test_acc: 0.8352\n",
      "Epoch: 6 | train_loss: 0.6093 | train_acc: 0.7578 | test_loss: 0.5774 | test_acc: 0.8759\n",
      "Epoch: 7 | train_loss: 0.5616 | train_acc: 0.7852 | test_loss: 0.5416 | test_acc: 0.8561\n",
      "Epoch: 8 | train_loss: 0.4711 | train_acc: 0.9414 | test_loss: 0.5079 | test_acc: 0.8352\n",
      "Epoch: 9 | train_loss: 0.4660 | train_acc: 0.9375 | test_loss: 0.5059 | test_acc: 0.8665\n",
      "Epoch: 10 | train_loss: 0.5260 | train_acc: 0.8086 | test_loss: 0.5077 | test_acc: 0.8665\n",
      "[INfO] Saving model to: saved_models\\07_effnetb0_data_10_percent_10_epochs.pth\n",
      "--------------------------------------------------\n",
      "\n",
      "[INFO] Experiment number: 4\n",
      "[INFO] Model: effnet2\n",
      "[INFO] DataLoader: data_10_percent\n",
      "[INFO] Number of epochs: 10\n",
      "[INFO] Create new effnetb2 model...\n",
      "[INFO] Created SummaryWriter saving to runs\\24-03-12\\data_10_percent\\10_epochs\n",
      "Epoch: 1 | train_loss: 1.0882 | train_acc: 0.3945 | test_loss: 0.9509 | test_acc: 0.6903\n",
      "Epoch: 2 | train_loss: 0.8842 | train_acc: 0.7852 | test_loss: 0.8636 | test_acc: 0.7434\n",
      "Epoch: 3 | train_loss: 0.8085 | train_acc: 0.7578 | test_loss: 0.7706 | test_acc: 0.8362\n",
      "Epoch: 4 | train_loss: 0.7628 | train_acc: 0.7383 | test_loss: 0.6753 | test_acc: 0.8750\n",
      "Epoch: 5 | train_loss: 0.6430 | train_acc: 0.8086 | test_loss: 0.6626 | test_acc: 0.9271\n",
      "Epoch: 6 | train_loss: 0.5853 | train_acc: 0.9062 | test_loss: 0.6084 | test_acc: 0.8958\n",
      "Epoch: 7 | train_loss: 0.5908 | train_acc: 0.7891 | test_loss: 0.5643 | test_acc: 0.9062\n",
      "Epoch: 8 | train_loss: 0.5359 | train_acc: 0.8477 | test_loss: 0.5626 | test_acc: 0.9167\n",
      "Epoch: 9 | train_loss: 0.5805 | train_acc: 0.7969 | test_loss: 0.5966 | test_acc: 0.8769\n",
      "Epoch: 10 | train_loss: 0.4895 | train_acc: 0.8242 | test_loss: 0.5450 | test_acc: 0.9271\n",
      "[INfO] Saving model to: saved_models\\07_effnet2_data_10_percent_10_epochs.pth\n",
      "--------------------------------------------------\n",
      "\n",
      "[INFO] Experiment number: 5\n",
      "[INFO] Model: effnetb0\n",
      "[INFO] DataLoader: data_20_percent\n",
      "[INFO] Number of epochs: 5\n",
      "[INFO] Create new effnetb0 model...\n",
      "[INFO] Created SummaryWriter saving to runs\\24-03-12\\data_20_percent\\5_epochs\n",
      "Epoch: 1 | train_loss: 0.9627 | train_acc: 0.5500 | test_loss: 0.6460 | test_acc: 0.9271\n",
      "Epoch: 2 | train_loss: 0.6620 | train_acc: 0.8438 | test_loss: 0.5715 | test_acc: 0.9479\n",
      "Epoch: 3 | train_loss: 0.5892 | train_acc: 0.8521 | test_loss: 0.4547 | test_acc: 0.9375\n",
      "Epoch: 4 | train_loss: 0.4670 | train_acc: 0.9000 | test_loss: 0.4246 | test_acc: 0.9072\n",
      "Epoch: 5 | train_loss: 0.4528 | train_acc: 0.8729 | test_loss: 0.3624 | test_acc: 0.9176\n",
      "[INfO] Saving model to: saved_models\\07_effnetb0_data_20_percent_5_epochs.pth\n",
      "--------------------------------------------------\n",
      "\n",
      "[INFO] Experiment number: 6\n",
      "[INFO] Model: effnet2\n",
      "[INFO] DataLoader: data_20_percent\n",
      "[INFO] Number of epochs: 5\n",
      "[INFO] Create new effnetb2 model...\n",
      "[INFO] Created SummaryWriter saving to runs\\24-03-12\\data_20_percent\\5_epochs\n",
      "Epoch: 1 | train_loss: 1.0002 | train_acc: 0.5042 | test_loss: 0.7862 | test_acc: 0.8759\n",
      "Epoch: 2 | train_loss: 0.7591 | train_acc: 0.8333 | test_loss: 0.6529 | test_acc: 0.9271\n",
      "Epoch: 3 | train_loss: 0.6308 | train_acc: 0.8521 | test_loss: 0.5581 | test_acc: 0.9271\n",
      "Epoch: 4 | train_loss: 0.5107 | train_acc: 0.8854 | test_loss: 0.5315 | test_acc: 0.8968\n",
      "Epoch: 5 | train_loss: 0.5258 | train_acc: 0.8479 | test_loss: 0.4533 | test_acc: 0.9375\n",
      "[INfO] Saving model to: saved_models\\07_effnet2_data_20_percent_5_epochs.pth\n",
      "--------------------------------------------------\n",
      "\n",
      "[INFO] Experiment number: 7\n",
      "[INFO] Model: effnetb0\n",
      "[INFO] DataLoader: data_20_percent\n",
      "[INFO] Number of epochs: 10\n",
      "[INFO] Create new effnetb0 model...\n",
      "[INFO] Created SummaryWriter saving to runs\\24-03-12\\data_20_percent\\10_epochs\n",
      "Epoch: 1 | train_loss: 0.9627 | train_acc: 0.5500 | test_loss: 0.6460 | test_acc: 0.9271\n",
      "Epoch: 2 | train_loss: 0.6620 | train_acc: 0.8438 | test_loss: 0.5715 | test_acc: 0.9479\n",
      "Epoch: 3 | train_loss: 0.5892 | train_acc: 0.8521 | test_loss: 0.4547 | test_acc: 0.9375\n",
      "Epoch: 4 | train_loss: 0.4670 | train_acc: 0.9000 | test_loss: 0.4246 | test_acc: 0.9072\n",
      "Epoch: 5 | train_loss: 0.4528 | train_acc: 0.8729 | test_loss: 0.3624 | test_acc: 0.9176\n",
      "Epoch: 6 | train_loss: 0.3961 | train_acc: 0.8688 | test_loss: 0.3796 | test_acc: 0.8873\n",
      "Epoch: 7 | train_loss: 0.3486 | train_acc: 0.9042 | test_loss: 0.3263 | test_acc: 0.9072\n",
      "Epoch: 8 | train_loss: 0.3887 | train_acc: 0.8750 | test_loss: 0.3131 | test_acc: 0.9280\n",
      "Epoch: 9 | train_loss: 0.3524 | train_acc: 0.9062 | test_loss: 0.2935 | test_acc: 0.9176\n",
      "Epoch: 10 | train_loss: 0.3509 | train_acc: 0.8917 | test_loss: 0.3080 | test_acc: 0.8873\n",
      "[INfO] Saving model to: saved_models\\07_effnetb0_data_20_percent_10_epochs.pth\n",
      "--------------------------------------------------\n",
      "\n",
      "[INFO] Experiment number: 8\n",
      "[INFO] Model: effnet2\n",
      "[INFO] DataLoader: data_20_percent\n",
      "[INFO] Number of epochs: 10\n",
      "[INFO] Create new effnetb2 model...\n",
      "[INFO] Created SummaryWriter saving to runs\\24-03-12\\data_20_percent\\10_epochs\n",
      "Epoch: 1 | train_loss: 1.0002 | train_acc: 0.5042 | test_loss: 0.7862 | test_acc: 0.8759\n",
      "Epoch: 2 | train_loss: 0.7591 | train_acc: 0.8333 | test_loss: 0.6529 | test_acc: 0.9271\n",
      "Epoch: 3 | train_loss: 0.6308 | train_acc: 0.8521 | test_loss: 0.5581 | test_acc: 0.9271\n",
      "Epoch: 4 | train_loss: 0.5107 | train_acc: 0.8854 | test_loss: 0.5315 | test_acc: 0.8968\n",
      "Epoch: 5 | train_loss: 0.5258 | train_acc: 0.8479 | test_loss: 0.4533 | test_acc: 0.9375\n",
      "Epoch: 6 | train_loss: 0.4242 | train_acc: 0.8833 | test_loss: 0.4561 | test_acc: 0.9375\n",
      "Epoch: 7 | train_loss: 0.3937 | train_acc: 0.9104 | test_loss: 0.4178 | test_acc: 0.9479\n",
      "Epoch: 8 | train_loss: 0.3698 | train_acc: 0.8917 | test_loss: 0.3794 | test_acc: 0.9479\n",
      "Epoch: 9 | train_loss: 0.4416 | train_acc: 0.8938 | test_loss: 0.3903 | test_acc: 0.9479\n",
      "Epoch: 10 | train_loss: 0.4489 | train_acc: 0.8875 | test_loss: 0.3883 | test_acc: 0.9479\n",
      "[INfO] Saving model to: saved_models\\07_effnet2_data_20_percent_10_epochs.pth\n",
      "--------------------------------------------------\n",
      "\n"
     ]
    }
   ],
   "source": [
    "from going_modular.utils import save_model \n",
    "\n",
    "set_seed(seed=42) \n",
    "\n",
    "experiment_number = 0 \n",
    "\n",
    "for dataloader_name, train_dataloader in train_dataloaders.items(): \n",
    "    for epochs in num_epochs: \n",
    "        for model_name in models: \n",
    "            \n",
    "            experiment_number += 1 \n",
    "            print(f\"[INFO] Experiment number: {experiment_number}\") \n",
    "            print(f\"[INFO] Model: {model_name}\") \n",
    "            print(f\"[INFO] DataLoader: {dataloader_name}\") \n",
    "            print(f\"[INFO] Number of epochs: {epochs}\") \n",
    "            \n",
    "            if model_name == \"effnetb0\": \n",
    "                model = create_effinetb0() \n",
    "            else: \n",
    "                model = create_effinetb2() \n",
    "                \n",
    "            loss_fn = nn.CrossEntropyLoss() \n",
    "            optimizer = torch.optim.Adam(params=model.parameters(), lr=0.001) \n",
    "            \n",
    "            # train target model and track experiments \n",
    "            train(model=model, \n",
    "                  train_dataloader=train_dataloader, \n",
    "                  test_dataloader=test_dataloader, \n",
    "                  optimizer=optimizer, \n",
    "                  loss_fn=loss_fn, \n",
    "                  epochs=epochs, \n",
    "                  device=device, \n",
    "                  writer=create_writer(experiment_name=dataloader_name, \n",
    "                                       model_name=model_name, \n",
    "                                       extra=f\"{epochs}_epochs\")) \n",
    "            \n",
    "            # save the model \n",
    "            save_filepath = f\"07_{model_name}_{dataloader_name}_{epochs}_epochs.pth\" \n",
    "            save_model(model=model, target_dir=\"saved_models\", model_name=save_filepath)\n",
    "            print(\"-\"*50 + \"\\n\")\n",
    "            \n",
    "            \n",
    "            "
   ]
  },
  {
   "cell_type": "code",
   "execution_count": null,
   "metadata": {},
   "outputs": [],
   "source": []
  }
 ],
 "metadata": {
  "kernelspec": {
   "display_name": "env",
   "language": "python",
   "name": "python3"
  },
  "language_info": {
   "codemirror_mode": {
    "name": "ipython",
    "version": 3
   },
   "file_extension": ".py",
   "mimetype": "text/x-python",
   "name": "python",
   "nbconvert_exporter": "python",
   "pygments_lexer": "ipython3",
   "version": "3.11.6"
  }
 },
 "nbformat": 4,
 "nbformat_minor": 2
}
